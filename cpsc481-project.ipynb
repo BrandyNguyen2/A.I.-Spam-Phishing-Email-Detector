{
 "cells": [
  {
   "cell_type": "code",
   "execution_count": 1,
   "id": "e46ce0d5",
   "metadata": {
    "_cell_guid": "b1076dfc-b9ad-4769-8c92-a6c4dae69d19",
    "_uuid": "8f2839f25d086af736a60e9eeb907d3b93b6e0e5",
    "execution": {
     "iopub.execute_input": "2024-12-01T07:34:26.763930Z",
     "iopub.status.busy": "2024-12-01T07:34:26.763503Z",
     "iopub.status.idle": "2024-12-01T07:34:27.835476Z",
     "shell.execute_reply": "2024-12-01T07:34:27.834132Z"
    },
    "papermill": {
     "duration": 1.080797,
     "end_time": "2024-12-01T07:34:27.838928",
     "exception": false,
     "start_time": "2024-12-01T07:34:26.758131",
     "status": "completed"
    },
    "tags": []
   },
   "outputs": [
    {
     "name": "stdout",
     "output_type": "stream",
     "text": [
      "/kaggle/input/fraud-email-dataset/fraud_email_.csv\n"
     ]
    }
   ],
   "source": [
    "# This Python 3 environment comes with many helpful analytics libraries installed\n",
    "# It is defined by the kaggle/python Docker image: https://github.com/kaggle/docker-python\n",
    "# For example, here's several helpful packages to load\n",
    "\n",
    "import numpy as np # linear algebra\n",
    "import pandas as pd # data processing, CSV file I/O (e.g. pd.read_csv)\n",
    "\n",
    "# Input data files are available in the read-only \"../input/\" directory\n",
    "# For example, running this (by clicking run or pressing Shift+Enter) will list all files under the input directory\n",
    "\n",
    "import os\n",
    "for dirname, _, filenames in os.walk('/kaggle/input'):\n",
    "    for filename in filenames:\n",
    "        print(os.path.join(dirname, filename))\n",
    "\n",
    "# You can write up to 20GB to the current directory (/kaggle/working/) that gets preserved as output when you create a version using \"Save & Run All\" \n",
    "# You can also write temporary files to /kaggle/temp/, but they won't be saved outside of the current session"
   ]
  },
  {
   "cell_type": "code",
   "execution_count": 2,
   "id": "14056adc",
   "metadata": {
    "execution": {
     "iopub.execute_input": "2024-12-01T07:34:27.846738Z",
     "iopub.status.busy": "2024-12-01T07:34:27.846031Z",
     "iopub.status.idle": "2024-12-01T07:34:30.084130Z",
     "shell.execute_reply": "2024-12-01T07:34:30.082665Z"
    },
    "papermill": {
     "duration": 2.244908,
     "end_time": "2024-12-01T07:34:30.086613",
     "exception": false,
     "start_time": "2024-12-01T07:34:27.841705",
     "status": "completed"
    },
    "tags": []
   },
   "outputs": [
    {
     "name": "stdout",
     "output_type": "stream",
     "text": [
      "Columns in the dataset: Index(['Text', 'Class'], dtype='object')\n",
      "<class 'pandas.core.frame.DataFrame'>\n",
      "RangeIndex: 11929 entries, 0 to 11928\n",
      "Data columns (total 2 columns):\n",
      " #   Column  Non-Null Count  Dtype \n",
      "---  ------  --------------  ----- \n",
      " 0   Text    11928 non-null  object\n",
      " 1   Class   11929 non-null  int64 \n",
      "dtypes: int64(1), object(1)\n",
      "memory usage: 186.5+ KB\n"
     ]
    },
    {
     "data": {
      "text/html": [
       "<div>\n",
       "<style scoped>\n",
       "    .dataframe tbody tr th:only-of-type {\n",
       "        vertical-align: middle;\n",
       "    }\n",
       "\n",
       "    .dataframe tbody tr th {\n",
       "        vertical-align: top;\n",
       "    }\n",
       "\n",
       "    .dataframe thead th {\n",
       "        text-align: right;\n",
       "    }\n",
       "</style>\n",
       "<table border=\"1\" class=\"dataframe\">\n",
       "  <thead>\n",
       "    <tr style=\"text-align: right;\">\n",
       "      <th></th>\n",
       "      <th>Text</th>\n",
       "      <th>Class</th>\n",
       "    </tr>\n",
       "  </thead>\n",
       "  <tbody>\n",
       "    <tr>\n",
       "      <th>0</th>\n",
       "      <td>Supply Quality China's EXCLUSIVE dimensions at...</td>\n",
       "      <td>1</td>\n",
       "    </tr>\n",
       "    <tr>\n",
       "      <th>1</th>\n",
       "      <td>over. SidLet me know. Thx.</td>\n",
       "      <td>0</td>\n",
       "    </tr>\n",
       "    <tr>\n",
       "      <th>2</th>\n",
       "      <td>Dear Friend,Greetings to you.I wish to accost ...</td>\n",
       "      <td>1</td>\n",
       "    </tr>\n",
       "    <tr>\n",
       "      <th>3</th>\n",
       "      <td>MR. CHEUNG PUIHANG SENG BANK LTD.DES VOEUX RD....</td>\n",
       "      <td>1</td>\n",
       "    </tr>\n",
       "    <tr>\n",
       "      <th>4</th>\n",
       "      <td>Not a surprising assessment from Embassy.</td>\n",
       "      <td>0</td>\n",
       "    </tr>\n",
       "  </tbody>\n",
       "</table>\n",
       "</div>"
      ],
      "text/plain": [
       "                                                Text  Class\n",
       "0  Supply Quality China's EXCLUSIVE dimensions at...      1\n",
       "1                         over. SidLet me know. Thx.      0\n",
       "2  Dear Friend,Greetings to you.I wish to accost ...      1\n",
       "3  MR. CHEUNG PUIHANG SENG BANK LTD.DES VOEUX RD....      1\n",
       "4          Not a surprising assessment from Embassy.      0"
      ]
     },
     "execution_count": 2,
     "metadata": {},
     "output_type": "execute_result"
    }
   ],
   "source": [
    "import pandas as pd\n",
    "from sklearn.feature_extraction.text import TfidfVectorizer\n",
    "from sklearn.model_selection import train_test_split\n",
    "from sklearn.naive_bayes import MultinomialNB\n",
    "from sklearn.metrics import accuracy_score, classification_report\n",
    "\n",
    "# Load the Kaggle dataset\n",
    "data = pd.read_csv('/kaggle/input/fraud-email-dataset/fraud_email_.csv')\n",
    "\n",
    "# Display column names\n",
    "print(\"Columns in the dataset:\", data.columns)\n",
    "data.shape\n",
    "data.info()\n",
    "data.isnull().sum()\n",
    "data = data.dropna()\n",
    "data.isnull().sum()\n",
    "data.duplicated().sum()\n",
    "data = data.drop_duplicates()\n",
    "data.shape\n",
    "data.head(n=5)\n"
   ]
  },
  {
   "cell_type": "code",
   "execution_count": 3,
   "id": "29a48dd0",
   "metadata": {
    "execution": {
     "iopub.execute_input": "2024-12-01T07:34:30.093128Z",
     "iopub.status.busy": "2024-12-01T07:34:30.092745Z",
     "iopub.status.idle": "2024-12-01T07:34:30.940027Z",
     "shell.execute_reply": "2024-12-01T07:34:30.938761Z"
    },
    "papermill": {
     "duration": 0.853382,
     "end_time": "2024-12-01T07:34:30.942465",
     "exception": false,
     "start_time": "2024-12-01T07:34:30.089083",
     "status": "completed"
    },
    "tags": []
   },
   "outputs": [
    {
     "data": {
      "text/plain": [
       "<Axes: xlabel='Class', ylabel='count'>"
      ]
     },
     "execution_count": 3,
     "metadata": {},
     "output_type": "execute_result"
    },
    {
     "data": {
      "image/png": "[encoded data removed]",
      "text/plain": [
       "<Figure size 640x480 with 1 Axes>"
      ]
     },
     "metadata": {},
     "output_type": "display_data"
    }
   ],
   "source": [
    "import seaborn as sns\n",
    "sns.countplot(data=data,x=data['Class'])"
   ]
  },
  {
   "cell_type": "code",
   "execution_count": null,
   "id": "8c6f4c99",
   "metadata": {
    "execution": {
     "iopub.execute_input": "2024-12-01T07:34:30.950046Z",
     "iopub.status.busy": "2024-12-01T07:34:30.949450Z",
     "iopub.status.idle": "2024-12-01T07:34:33.256820Z",
     "shell.execute_reply": "2024-12-01T07:34:33.255573Z"
    },
    "papermill": {
     "duration": 2.313963,
     "end_time": "2024-12-01T07:34:33.259272",
     "exception": false,
     "start_time": "2024-12-01T07:34:30.945309",
     "status": "completed"
    },
    "tags": []
   },
   "outputs": [
    {
     "data": {
      "text/plain": [
       "0.9683964104564963"
      ]
     },
     "execution_count": 4,
     "metadata": {},
     "output_type": "execute_result"
    }
   ],
   "source": [
    "from sklearn.feature_extraction.text import CountVectorizer\n",
    "from sklearn.naive_bayes import MultinomialNB\n",
    "from sklearn.pipeline import Pipeline\n",
    "from sklearn.model_selection import train_test_split\n",
    "\n",
    "X_train,X_test,y_train,y_test=train_test_split(data.Text,data.Class,test_size=0.25)\n",
    "clf=Pipeline([\n",
    "    ('vectorizer',CountVectorizer()),\n",
    "    ('nb',MultinomialNB())\n",
    "])\n",
    "clf.fit(X_train,y_train)\n",
    "Pipeline(steps=[('vectorizer', CountVectorizer()), ('nb', MultinomialNB())])\n",
    "emails=[\n",
    "     \"I'm copying Rob so a note can be prepared.LB6\",\n",
    "    \"Flood Statement Randolph (Arkansas) FLOOD STATEMENT NATIONAL WEATHERSERVICE LITTLE ROCK AR 920 AM CDT SUN MAY 06 2007 . FOR THE FOLLOWINGFORECAST LOCATIONS:. WINDS WILL DIMINISH SOMEWHAT SUNDAY AFTERNOON.NORTHWEST WINDS 5 TO 10 MPH INCREASING TO 10 TO 15 MPH BY LATE MORNING.FIRE WEATHER WATCH NOW IN EFFECT FROM MONDAY AFTERNOON THROUGH MONDAYEVENING.ADDITIONAL ISOLATED TO WIDELY SCATTERED SHOWERS AND THUNDERSTORMS WILLBE POSSIBLE ELSEWHERE ACROSS NORTHEAST AND EAST CENTRAL OKLAHOMA.MOSTLY CLOUDY SKIES ACROSS THE AREA WILL CONTINUE THROUGH THE MORNING.STRONG NORTHERLY WINDS.A WIND ADVISORY REMAINS IN EFFECT UNTIL NOON PDT TODAY. AND LOCALLY THECOASTAL AREAS OF VENTURA AND LOS ANGELES COUNTIES. WIND ADVISORY REMAINSIN EFFECT UNTIL 12 PM ADT TODAY.HIGH WATER LEVELS FOR COPPER RIVER TRIBUTARIES. THEN BEGIN FALLING LATETUESDAY. PORT ALEXANDER 530 AM ADT SUN MAY 6 2007 . WIND ADVISORYREMAINS IN EFFECT UNTIL NOON PDT TODAY. STRONG OFFSHORE WINDS AND VERY\"\n",
    "]\n",
    "clf.predict(emails)\n",
    "print(\"score:\", clf.score(X_test,y_test))\n"
   ]
  }
 ],
 "metadata": {
  "kaggle": {
   "accelerator": "none",
   "dataSources": [
    {
     "datasetId": 40201,
     "sourceId": 63106,
     "sourceType": "datasetVersion"
    }
   ],
   "dockerImageVersionId": 30786,
   "isGpuEnabled": false,
   "isInternetEnabled": false,
   "language": "python",
   "sourceType": "notebook"
  },
  "kernelspec": {
   "display_name": "Python 3",
   "language": "python",
   "name": "python3"
  },
  "language_info": {
   "codemirror_mode": {
    "name": "ipython",
    "version": 3
   },
   "file_extension": ".py",
   "mimetype": "text/x-python",
   "name": "python",
   "nbconvert_exporter": "python",
   "pygments_lexer": "ipython3",
   "version": "3.10.14"
  },
  "papermill": {
   "default_parameters": {},
   "duration": 10.143648,
   "end_time": "2024-12-01T07:34:33.987079",
   "environment_variables": {},
   "exception": null,
   "input_path": "__notebook__.ipynb",
   "output_path": "__notebook__.ipynb",
   "parameters": {},
   "start_time": "2024-12-01T07:34:23.843431",
   "version": "2.6.0"
  }
 },
 "nbformat": 4,
 "nbformat_minor": 5
}
